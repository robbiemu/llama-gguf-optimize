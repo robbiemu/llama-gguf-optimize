{
 "cells": [
  {
   "cell_type": "code",
   "execution_count": 1,
   "metadata": {},
   "outputs": [
    {
     "name": "stderr",
     "output_type": "stream",
     "text": [
      "/Users/Shared/Public/huggingface/salamandra-2b-instruct/venv/lib/python3.12/site-packages/tqdm/auto.py:21: TqdmWarning: IProgress not found. Please update jupyter and ipywidgets. See https://ipywidgets.readthedocs.io/en/stable/user_install.html\n",
      "  from .autonotebook import tqdm as notebook_tqdm\n"
     ]
    }
   ],
   "source": [
    "from datasets import load_dataset\n",
    "import json\n",
    "import yaml"
   ]
  },
  {
   "cell_type": "code",
   "execution_count": 21,
   "metadata": {},
   "outputs": [],
   "source": [
    "import os, getpass\n",
    "\n",
    "def _set_env(var: str):\n",
    "    if not os.environ.get(var):\n",
    "        os.environ[var] = getpass.getpass(f\"{var}: \")\n"
   ]
  },
  {
   "cell_type": "code",
   "execution_count": 15,
   "metadata": {},
   "outputs": [
    {
     "name": "stdout",
     "output_type": "stream",
     "text": [
      "['bg', 'ca', 'code', 'cs', 'cy', 'da', 'de', 'el', 'en', 'es', 'et', 'eu', 'fi', 'fr', 'ga', 'gl', 'hr', 'hu', 'it', 'lt', 'lv', 'mt', 'nl', 'nn', '\\\\no', 'oc', 'pl', 'pt', 'ro', 'ru', 'sh', 'sk', 'sl', 'sr', 'sv', 'uk']\n"
     ]
    }
   ],
   "source": [
    "with open('README.md', 'r') as readme:\n",
    "    lines = readme.readlines()\n",
    "    \n",
    "    # Find start and end of the language array in YAML format\n",
    "    start_index = None\n",
    "    for i, line in enumerate(lines):\n",
    "        if line.strip() == \"language:\":\n",
    "            start_index = i\n",
    "            break\n",
    "    \n",
    "    end_index = len(lines)\n",
    "    for j, line in enumerate(lines[start_index+1:], start=start_index+1):\n",
    "        if not line.startswith('- '):\n",
    "            end_index = j\n",
    "            break\n",
    "\n",
    "    language_section = ''.join(lines[start_index:end_index])\n",
    "    \n",
    "    # Load it with PyYAML\n",
    "    readme_yaml = yaml.safe_load(language_section)\n",
    "    langs = readme_yaml['language']\n",
    "\n",
    "print(langs)"
   ]
  },
  {
   "cell_type": "code",
   "execution_count": 22,
   "metadata": {},
   "outputs": [],
   "source": [
    "NUM_SAMPLES = 200\n",
    "SKIP_SAMPLES = 1000\n",
    "#DATASET_NAME = \"oscar-corpus/colossal-oscar-1.0\"\n",
    "DATASET_NAME = \"oscar-corpus/oscar\"\n",
    "_set_env(\"HF_TOKEN\")"
   ]
  },
  {
   "cell_type": "code",
   "execution_count": 23,
   "metadata": {},
   "outputs": [],
   "source": [
    "if \"colossal\" in DATASET_NAME:\n",
    "    ds = load_dataset(DATASET_NAME, \"default\", split=\"train\", streaming=True)\n",
    "    ds = ds.take(NUM_SAMPLES)\n",
    "\n",
    "    for ex in ds:\n",
    "        print(ex[\"content\"])"
   ]
  },
  {
   "cell_type": "code",
   "execution_count": null,
   "metadata": {},
   "outputs": [
    {
     "name": "stderr",
     "output_type": "stream",
     "text": [
      "Using the latest cached version of the module from /Users/macdev/.cache/huggingface/modules/datasets_modules/datasets/oscar-corpus--oscar/84838bd49d2295f62008383b05620571535451d84545037bb94d6f3501651df2 (last modified on Thu Oct 10 21:13:07 2024) since it couldn't be found locally at oscar-corpus/oscar, or remotely on the Hugging Face Hub.\n"
     ]
    },
    {
     "name": "stdout",
     "output_type": "stream",
     "text": [
      "lang code not in corpus\n",
      "[{'id': 1000, 'text': 'Hola! Se acabaron ... ¿no creéis?'}]\n"
     ]
    }
   ],
   "source": [
    "samples = dict()\n",
    "\n",
    "for lang in langs:\n",
    "    if 2 <= len(lang) <= 3:\n",
    "        try:\n",
    "            lang = lang.replace(\"\\\\\", \"\")\n",
    "            name = \"oscar_\" + lang\n",
    "\n",
    "            ds = load_dataset(DATASET_NAME, name, split=\"train\", streaming=True)\n",
    "            if SKIP_SAMPLES > 0:\n",
    "                ds = ds.skip(SKIP_SAMPLES)\n",
    "            ds = ds.take(NUM_SAMPLES)\n",
    "            samples[lang] = list(ds)\n",
    "        except ValueError as e:\n",
    "            print(e)\n",
    "    else:\n",
    "        print(f\"lang {lang} not in corpus\") # oscar not colossus\n",
    "print(samples[\"es\"])"
   ]
  },
  {
   "cell_type": "code",
   "execution_count": 24,
   "metadata": {},
   "outputs": [],
   "source": [
    "os.makedirs(\"imatrix/oscar/langs\", exist_ok=True)\n",
    "\n",
    "DATASET_NAME = \"imatrix/oscar/calibration-dataset.txt\" if SKIP_SAMPLES > 0 else \"imatrix/oscar/imatrix-dataset.txt\"\n",
    "\n",
    "# Write all data to a single file \"imatrix-dataset.txt\" (flattened format with just text and language labels)\n",
    "with open(DATASET_NAME, \"w\", encoding=\"utf-8\") as imatrix_file:\n",
    "    for lang, data in samples.items():\n",
    "        for item in data:\n",
    "            # Write the language and text content to the single file\n",
    "            imatrix_file.write(f\"{lang}: {item['text']}\\n\")\n",
    "\n",
    "# Write each language's data to \"imatrix/lang.txt\" in JSON format\n",
    "for lang, data in samples.items():\n",
    "    if not (SKIP_SAMPLES > 0):\n",
    "        with open(f\"imatrix/oscar/langs/{lang}.txt\", \"w\", encoding=\"utf-8\") as lang_file:\n",
    "            # Write each entry as a JSON object in a separate line for easier parsing\n",
    "            for item in data:\n",
    "                json.dump(item, lang_file)\n",
    "                lang_file.write(\"\\n\")  # Add a newline for each JSON entry\n",
    "        "
   ]
  },
  {
   "cell_type": "code",
   "execution_count": 13,
   "metadata": {},
   "outputs": [
    {
     "name": "stdout",
     "output_type": "stream",
     "text": [
      "Total Results: 35000\n",
      "Language el.txt: 1000 results\n",
      "Language sv.txt: 1000 results\n",
      "Language pl.txt: 1000 results\n",
      "Language en.txt: 1000 results\n",
      "Language ru.txt: 1000 results\n",
      "Language ga.txt: 1000 results\n",
      "Language fr.txt: 1000 results\n",
      "Language sr.txt: 1000 results\n",
      "Language lv.txt: 1000 results\n",
      "Language cy.txt: 1000 results\n",
      "Language lt.txt: 1000 results\n",
      "Language nn.txt: 1000 results\n",
      "Language mt.txt: 1000 results\n",
      "Language no.txt: 1000 results\n",
      "Language nl.txt: 1000 results\n",
      "Language uk.txt: 1000 results\n",
      "Language cs.txt: 1000 results\n",
      "Language oc.txt: 1000 results\n",
      "Language ca.txt: 1000 results\n",
      "Language bg.txt: 1000 results\n",
      "Language fi.txt: 1000 results\n",
      "Language da.txt: 1000 results\n",
      "Language hu.txt: 1000 results\n",
      "Language sh.txt: 1000 results\n",
      "Language gl.txt: 1000 results\n",
      "Language es.txt: 1000 results\n",
      "Language sk.txt: 1000 results\n",
      "Language ro.txt: 1000 results\n",
      "Language et.txt: 1000 results\n",
      "Language pt.txt: 1000 results\n",
      "Language hr.txt: 1000 results\n",
      "Language eu.txt: 1000 results\n",
      "Language it.txt: 1000 results\n",
      "Language sl.txt: 1000 results\n",
      "Language de.txt: 1000 results\n"
     ]
    },
    {
     "data": {
      "text/plain": [
       "(defaultdict(int,\n",
       "             {'el.txt': 1000,\n",
       "              'sv.txt': 1000,\n",
       "              'pl.txt': 1000,\n",
       "              'en.txt': 1000,\n",
       "              'ru.txt': 1000,\n",
       "              'ga.txt': 1000,\n",
       "              'fr.txt': 1000,\n",
       "              'sr.txt': 1000,\n",
       "              'lv.txt': 1000,\n",
       "              'cy.txt': 1000,\n",
       "              'lt.txt': 1000,\n",
       "              'nn.txt': 1000,\n",
       "              'mt.txt': 1000,\n",
       "              'no.txt': 1000,\n",
       "              'nl.txt': 1000,\n",
       "              'uk.txt': 1000,\n",
       "              'cs.txt': 1000,\n",
       "              'oc.txt': 1000,\n",
       "              'ca.txt': 1000,\n",
       "              'bg.txt': 1000,\n",
       "              'fi.txt': 1000,\n",
       "              'da.txt': 1000,\n",
       "              'hu.txt': 1000,\n",
       "              'sh.txt': 1000,\n",
       "              'gl.txt': 1000,\n",
       "              'es.txt': 1000,\n",
       "              'sk.txt': 1000,\n",
       "              'ro.txt': 1000,\n",
       "              'et.txt': 1000,\n",
       "              'pt.txt': 1000,\n",
       "              'hr.txt': 1000,\n",
       "              'eu.txt': 1000,\n",
       "              'it.txt': 1000,\n",
       "              'sl.txt': 1000,\n",
       "              'de.txt': 1000}),\n",
       " 35000)"
      ]
     },
     "execution_count": 13,
     "metadata": {},
     "output_type": "execute_result"
    }
   ],
   "source": [
    "import os\n",
    "from collections import defaultdict\n",
    "\n",
    "def count_results_by_language(dataset_dir):\n",
    "    # Adjust this path to point to your language files directory\n",
    "    lang_counts = defaultdict(int)\n",
    "    \n",
    "    for filename in os.listdir(dataset_dir):\n",
    "        if filename.endswith(\".txt\"):  # Assuming language files are in .txt format\n",
    "            lang_code = filename.split(\"-\")[0]  # Assumes filename starts with lang code\n",
    "            with open(os.path.join(dataset_dir, filename), \"r\", encoding=\"utf-8\") as f:\n",
    "                for line in f:\n",
    "                    if line.strip():  # Only count non-empty lines\n",
    "                        lang_counts[lang_code] += 1\n",
    "    \n",
    "    total_results = sum(lang_counts.values())\n",
    "    \n",
    "    # Print results summary\n",
    "    print(f\"Total Results: {total_results}\")\n",
    "    for lang, count in lang_counts.items():\n",
    "        print(f\"Language {lang}: {count} results\")\n",
    "    \n",
    "    return lang_counts, total_results\n",
    "\n",
    "# Example usage\n",
    "dataset_directory = \"./imatrix/oscar/langs\"  # Change to your dataset path\n",
    "count_results_by_language(dataset_directory)\n"
   ]
  },
  {
   "cell_type": "code",
   "execution_count": 25,
   "metadata": {},
   "outputs": [
    {
     "ename": "ValueError",
     "evalue": "Model path does not exist: your_model.gguf",
     "output_type": "error",
     "traceback": [
      "\u001b[0;31m---------------------------------------------------------------------------\u001b[0m",
      "\u001b[0;31mValueError\u001b[0m                                Traceback (most recent call last)",
      "Cell \u001b[0;32mIn[25], line 3\u001b[0m\n\u001b[1;32m      1\u001b[0m \u001b[38;5;28;01mimport\u001b[39;00m \u001b[38;5;21;01mllama_cpp\u001b[39;00m\n\u001b[0;32m----> 3\u001b[0m model \u001b[38;5;241m=\u001b[39m \u001b[43mllama_cpp\u001b[49m\u001b[38;5;241;43m.\u001b[39;49m\u001b[43mLlama\u001b[49m\u001b[43m(\u001b[49m\u001b[43mmodel_path\u001b[49m\u001b[38;5;241;43m=\u001b[39;49m\u001b[38;5;124;43m\"\u001b[39;49m\u001b[38;5;124;43myour_model.gguf\u001b[39;49m\u001b[38;5;124;43m\"\u001b[39;49m\u001b[43m,\u001b[49m\u001b[43m \u001b[49m\u001b[43mn_ctx\u001b[49m\u001b[38;5;241;43m=\u001b[39;49m\u001b[38;5;241;43m512\u001b[39;49m\u001b[43m)\u001b[49m\n\u001b[1;32m      4\u001b[0m input_text \u001b[38;5;241m=\u001b[39m \u001b[38;5;124m\"\u001b[39m\u001b[38;5;124mHello world\u001b[39m\u001b[38;5;124m\"\u001b[39m\n\u001b[1;32m      6\u001b[0m \u001b[38;5;28;01mtry\u001b[39;00m:\n",
      "File \u001b[0;32m/Users/Shared/Public/huggingface/salamandra-2b-instruct/venv/lib/python3.12/site-packages/llama_cpp/llama.py:365\u001b[0m, in \u001b[0;36mLlama.__init__\u001b[0;34m(self, model_path, n_gpu_layers, split_mode, main_gpu, tensor_split, rpc_servers, vocab_only, use_mmap, use_mlock, kv_overrides, seed, n_ctx, n_batch, n_ubatch, n_threads, n_threads_batch, rope_scaling_type, pooling_type, rope_freq_base, rope_freq_scale, yarn_ext_factor, yarn_attn_factor, yarn_beta_fast, yarn_beta_slow, yarn_orig_ctx, logits_all, embedding, offload_kqv, flash_attn, last_n_tokens_size, lora_base, lora_scale, lora_path, numa, chat_format, chat_handler, draft_model, tokenizer, type_k, type_v, spm_infill, verbose, **kwargs)\u001b[0m\n\u001b[1;32m    362\u001b[0m \u001b[38;5;28mself\u001b[39m\u001b[38;5;241m.\u001b[39mspm_infill \u001b[38;5;241m=\u001b[39m spm_infill\n\u001b[1;32m    364\u001b[0m \u001b[38;5;28;01mif\u001b[39;00m \u001b[38;5;129;01mnot\u001b[39;00m os\u001b[38;5;241m.\u001b[39mpath\u001b[38;5;241m.\u001b[39mexists(model_path):\n\u001b[0;32m--> 365\u001b[0m     \u001b[38;5;28;01mraise\u001b[39;00m \u001b[38;5;167;01mValueError\u001b[39;00m(\u001b[38;5;124mf\u001b[39m\u001b[38;5;124m\"\u001b[39m\u001b[38;5;124mModel path does not exist: \u001b[39m\u001b[38;5;132;01m{\u001b[39;00mmodel_path\u001b[38;5;132;01m}\u001b[39;00m\u001b[38;5;124m\"\u001b[39m)\n\u001b[1;32m    367\u001b[0m \u001b[38;5;28mself\u001b[39m\u001b[38;5;241m.\u001b[39m_model \u001b[38;5;241m=\u001b[39m \u001b[38;5;28mself\u001b[39m\u001b[38;5;241m.\u001b[39m_stack\u001b[38;5;241m.\u001b[39menter_context(\n\u001b[1;32m    368\u001b[0m     contextlib\u001b[38;5;241m.\u001b[39mclosing(\n\u001b[1;32m    369\u001b[0m         internals\u001b[38;5;241m.\u001b[39mLlamaModel(\n\u001b[0;32m   (...)\u001b[0m\n\u001b[1;32m    374\u001b[0m     )\n\u001b[1;32m    375\u001b[0m )\n\u001b[1;32m    377\u001b[0m \u001b[38;5;66;03m# Override tokenizer\u001b[39;00m\n",
      "\u001b[0;31mValueError\u001b[0m: Model path does not exist: your_model.gguf"
     ]
    }
   ],
   "source": [
    "import llama_cpp\n",
    "\n",
    "model = llama_cpp.Llama(model_path=\"salamandra-2b-instruct_bf16.gguf\", n_ctx=512)\n",
    "input_text = \"Hello world\"\n",
    "\n",
    "try:\n",
    "    tokens = model.tokenize(input_text)\n",
    "    print(tokens)\n",
    "except Exception as e:\n",
    "    print(f\"Error: {e}\")\n"
   ]
  }
 ],
 "metadata": {
  "kernelspec": {
   "display_name": "venv",
   "language": "python",
   "name": "python3"
  },
  "language_info": {
   "codemirror_mode": {
    "name": "ipython",
    "version": 3
   },
   "file_extension": ".py",
   "mimetype": "text/x-python",
   "name": "python",
   "nbconvert_exporter": "python",
   "pygments_lexer": "ipython3",
   "version": "3.12.0"
  }
 },
 "nbformat": 4,
 "nbformat_minor": 2
}
